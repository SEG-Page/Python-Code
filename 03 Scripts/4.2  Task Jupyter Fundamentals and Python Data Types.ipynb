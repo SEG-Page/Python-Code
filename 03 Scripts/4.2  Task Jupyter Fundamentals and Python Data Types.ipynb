{
 "cells": [
  {
   "cell_type": "markdown",
   "id": "d9f7e826",
   "metadata": {},
   "source": [
    "# 01. Importing libraries"
   ]
  },
  {
   "cell_type": "code",
   "execution_count": 1,
   "id": "27870976",
   "metadata": {},
   "outputs": [],
   "source": [
    "# Import libraries\n",
    "import pandas as pd\n",
    "import numpy as np\n",
    "import os"
   ]
  },
  {
   "cell_type": "markdown",
   "id": "9a172be5",
   "metadata": {},
   "source": [
    "# 02. Python data types"
   ]
  },
  {
   "cell_type": "code",
   "execution_count": 21,
   "id": "1775c66a",
   "metadata": {},
   "outputs": [],
   "source": [
    "#Assinging variable\n",
    "x = 90"
   ]
  },
  {
   "cell_type": "code",
   "execution_count": 22,
   "id": "a8b967e1",
   "metadata": {},
   "outputs": [
    {
     "data": {
      "text/plain": [
       "100"
      ]
     },
     "execution_count": 22,
     "metadata": {},
     "output_type": "execute_result"
    }
   ],
   "source": [
    "# one of three ways to reach '100'\n",
    "x + 10"
   ]
  },
  {
   "cell_type": "code",
   "execution_count": 23,
   "id": "feb33a21",
   "metadata": {},
   "outputs": [
    {
     "data": {
      "text/plain": [
       "100"
      ]
     },
     "execution_count": 23,
     "metadata": {},
     "output_type": "execute_result"
    }
   ],
   "source": [
    "# two of three ways to reach '100'\n",
    "190 - x"
   ]
  },
  {
   "cell_type": "code",
   "execution_count": 15,
   "id": "d456a119",
   "metadata": {},
   "outputs": [],
   "source": [
    "x = 90"
   ]
  },
  {
   "cell_type": "code",
   "execution_count": 16,
   "id": "a322997a",
   "metadata": {},
   "outputs": [],
   "source": [
    "y = 10"
   ]
  },
  {
   "cell_type": "code",
   "execution_count": 24,
   "id": "9f7ec6f3",
   "metadata": {},
   "outputs": [
    {
     "data": {
      "text/plain": [
       "100"
      ]
     },
     "execution_count": 24,
     "metadata": {},
     "output_type": "execute_result"
    }
   ],
   "source": [
    "#three of three ways to reach '100'\n",
    "x + y"
   ]
  },
  {
   "cell_type": "code",
   "execution_count": 18,
   "id": "38cae3d1",
   "metadata": {},
   "outputs": [],
   "source": [
    "# code floating points\n",
    "a = 1.50"
   ]
  },
  {
   "cell_type": "code",
   "execution_count": 19,
   "id": "d49520c6",
   "metadata": {},
   "outputs": [],
   "source": [
    "# Code floating points\n",
    "b = 25.5"
   ]
  },
  {
   "cell_type": "code",
   "execution_count": 36,
   "id": "39033be9",
   "metadata": {},
   "outputs": [
    {
     "data": {
      "text/plain": [
       "17.0"
      ]
     },
     "execution_count": 36,
     "metadata": {},
     "output_type": "execute_result"
    }
   ],
   "source": [
    "# Divide floating points\n",
    "b / a"
   ]
  },
  {
   "cell_type": "code",
   "execution_count": 25,
   "id": "e65661db",
   "metadata": {},
   "outputs": [],
   "source": [
    "c = 'C'"
   ]
  },
  {
   "cell_type": "code",
   "execution_count": 26,
   "id": "671e4461",
   "metadata": {},
   "outputs": [],
   "source": [
    "d = 'a'"
   ]
  },
  {
   "cell_type": "code",
   "execution_count": 27,
   "id": "e9dbb2ef",
   "metadata": {},
   "outputs": [],
   "source": [
    "e = 't'"
   ]
  },
  {
   "cell_type": "code",
   "execution_count": 35,
   "id": "2b42a85e",
   "metadata": {},
   "outputs": [
    {
     "data": {
      "text/plain": [
       "'Cat'"
      ]
     },
     "execution_count": 35,
     "metadata": {},
     "output_type": "execute_result"
    }
   ],
   "source": [
    "# Concatenate strings to construct a short word\n",
    "c + d + e"
   ]
  },
  {
   "cell_type": "code",
   "execution_count": 29,
   "id": "5a14aa5b",
   "metadata": {},
   "outputs": [],
   "source": [
    "f = 'That '"
   ]
  },
  {
   "cell_type": "code",
   "execution_count": 30,
   "id": "032ea958",
   "metadata": {},
   "outputs": [],
   "source": [
    "g = \"is \""
   ]
  },
  {
   "cell_type": "code",
   "execution_count": 31,
   "id": "46fde93d",
   "metadata": {},
   "outputs": [],
   "source": [
    "h = '?'"
   ]
  },
  {
   "cell_type": "code",
   "execution_count": 32,
   "id": "13cfa0fe",
   "metadata": {},
   "outputs": [],
   "source": [
    "i = c + d + e"
   ]
  },
  {
   "cell_type": "code",
   "execution_count": 33,
   "id": "3856eb32",
   "metadata": {},
   "outputs": [
    {
     "name": "stdout",
     "output_type": "stream",
     "text": [
      "Cat\n"
     ]
    }
   ],
   "source": [
    "print(i)"
   ]
  },
  {
   "cell_type": "code",
   "execution_count": 39,
   "id": "50939fa3",
   "metadata": {},
   "outputs": [],
   "source": [
    "j = 'a '"
   ]
  },
  {
   "cell_type": "code",
   "execution_count": 40,
   "id": "9edcf9f2",
   "metadata": {},
   "outputs": [
    {
     "data": {
      "text/plain": [
       "'That is a Cat'"
      ]
     },
     "execution_count": 40,
     "metadata": {},
     "output_type": "execute_result"
    }
   ],
   "source": [
    "# sentence one\n",
    "f + g + j + i"
   ]
  },
  {
   "cell_type": "code",
   "execution_count": 42,
   "id": "6d38066b",
   "metadata": {},
   "outputs": [
    {
     "data": {
      "text/plain": [
       "'is That a Cat?'"
      ]
     },
     "execution_count": 42,
     "metadata": {},
     "output_type": "execute_result"
    }
   ],
   "source": [
    "# sentence two\n",
    "g + f + j + i + h"
   ]
  },
  {
   "cell_type": "code",
   "execution_count": 43,
   "id": "c12dcb68",
   "metadata": {},
   "outputs": [
    {
     "data": {
      "text/plain": [
       "'CatCatCatCatCatCatCatCatCatCatCatCatCatCatCatCatCatCatCatCatCatCatCatCatCatCatCatCatCatCatCatCatCatCatCatCatCatCatCatCatCatCatCatCatCatCatCatCatCatCatCatCatCatCatCatCatCatCatCatCatCatCatCatCatCatCatCatCatCatCatCatCatCatCatCatCatCatCatCatCatCatCatCatCatCatCatCatCatCatCatCatCatCatCatCatCatCatCatCatCat'"
      ]
     },
     "execution_count": 43,
     "metadata": {},
     "output_type": "execute_result"
    }
   ],
   "source": [
    "# bonus task string times '100'\n",
    "i * 100"
   ]
  }
 ],
 "metadata": {
  "kernelspec": {
   "display_name": "Python 3",
   "language": "python",
   "name": "python3"
  },
  "language_info": {
   "codemirror_mode": {
    "name": "ipython",
    "version": 3
   },
   "file_extension": ".py",
   "mimetype": "text/x-python",
   "name": "python",
   "nbconvert_exporter": "python",
   "pygments_lexer": "ipython3",
   "version": "3.8.8"
  }
 },
 "nbformat": 4,
 "nbformat_minor": 5
}
